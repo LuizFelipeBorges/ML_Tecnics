{
  "nbformat": 4,
  "nbformat_minor": 0,
  "metadata": {
    "kernelspec": {
      "display_name": "Python 3",
      "language": "python",
      "name": "python3"
    },
    "language_info": {
      "codemirror_mode": {
        "name": "ipython",
        "version": 3
      },
      "file_extension": ".py",
      "mimetype": "text/x-python",
      "name": "python",
      "nbconvert_exporter": "python",
      "pygments_lexer": "ipython3",
      "version": "3.7.6"
    },
    "colab": {
      "name": "Keras_TensorFlow_Convolucional.ipynb",
      "provenance": []
    }
  },
  "cells": [
    {
      "cell_type": "code",
      "metadata": {
        "id": "xvhACH1wvA_T",
        "colab_type": "code",
        "colab": {}
      },
      "source": [
        "import tensorflow as tf\n",
        "import tensorflow.keras as tfk\n",
        "import pandas as pd\n",
        "import numpy as np"
      ],
      "execution_count": 1,
      "outputs": []
    },
    {
      "cell_type": "code",
      "metadata": {
        "id": "IRMlochlvA_X",
        "colab_type": "code",
        "colab": {}
      },
      "source": [
        "data = pd.read_csv(\"/content/ts_hr_feb_2020.csv\", parse_dates=['date'])"
      ],
      "execution_count": 7,
      "outputs": []
    },
    {
      "cell_type": "code",
      "metadata": {
        "id": "YgF-yb0RvA_b",
        "colab_type": "code",
        "colab": {
          "base_uri": "https://localhost:8080/",
          "height": 204
        },
        "outputId": "0ea17767-a5e7-4863-b973-f98412732e99"
      },
      "source": [
        "data.head()"
      ],
      "execution_count": 8,
      "outputs": [
        {
          "output_type": "execute_result",
          "data": {
            "text/html": [
              "<div>\n",
              "<style scoped>\n",
              "    .dataframe tbody tr th:only-of-type {\n",
              "        vertical-align: middle;\n",
              "    }\n",
              "\n",
              "    .dataframe tbody tr th {\n",
              "        vertical-align: top;\n",
              "    }\n",
              "\n",
              "    .dataframe thead th {\n",
              "        text-align: right;\n",
              "    }\n",
              "</style>\n",
              "<table border=\"1\" class=\"dataframe\">\n",
              "  <thead>\n",
              "    <tr style=\"text-align: right;\">\n",
              "      <th></th>\n",
              "      <th>date</th>\n",
              "      <th>sales_value</th>\n",
              "    </tr>\n",
              "  </thead>\n",
              "  <tbody>\n",
              "    <tr>\n",
              "      <th>0</th>\n",
              "      <td>2020-02-01 00:00:00</td>\n",
              "      <td>28.60</td>\n",
              "    </tr>\n",
              "    <tr>\n",
              "      <th>1</th>\n",
              "      <td>2020-02-01 01:00:00</td>\n",
              "      <td>122.84</td>\n",
              "    </tr>\n",
              "    <tr>\n",
              "      <th>2</th>\n",
              "      <td>2020-02-01 02:00:00</td>\n",
              "      <td>112.87</td>\n",
              "    </tr>\n",
              "    <tr>\n",
              "      <th>3</th>\n",
              "      <td>2020-02-01 03:00:00</td>\n",
              "      <td>357.20</td>\n",
              "    </tr>\n",
              "    <tr>\n",
              "      <th>4</th>\n",
              "      <td>2020-02-01 04:00:00</td>\n",
              "      <td>642.56</td>\n",
              "    </tr>\n",
              "  </tbody>\n",
              "</table>\n",
              "</div>"
            ],
            "text/plain": [
              "                 date  sales_value\n",
              "0 2020-02-01 00:00:00        28.60\n",
              "1 2020-02-01 01:00:00       122.84\n",
              "2 2020-02-01 02:00:00       112.87\n",
              "3 2020-02-01 03:00:00       357.20\n",
              "4 2020-02-01 04:00:00       642.56"
            ]
          },
          "metadata": {
            "tags": []
          },
          "execution_count": 8
        }
      ]
    },
    {
      "cell_type": "code",
      "metadata": {
        "id": "ZUcD49OGvA_k",
        "colab_type": "code",
        "colab": {
          "base_uri": "https://localhost:8080/",
          "height": 323
        },
        "outputId": "d0fe8b3a-7d66-4459-f5b2-0a3796eac6d8"
      },
      "source": [
        "numerical_i = tf.keras.layers.Input((24, 1))\n",
        "numerical = tf.keras.layers.Conv1D(10, 3)(numerical_i)\n",
        "numerical = tf.keras.layers.Flatten()(numerical)\n",
        "dense = tf.keras.layers.Dense(200, 'relu')(numerical)\n",
        "out = tf.keras.layers.Dense(24, 'relu')(dense)\n",
        "\n",
        "mdl = tf.keras.Model(numerical_i, out)\n",
        "mdl.compile('adam', 'mae')\n",
        "mdl.summary()"
      ],
      "execution_count": 9,
      "outputs": [
        {
          "output_type": "stream",
          "text": [
            "Model: \"functional_1\"\n",
            "_________________________________________________________________\n",
            "Layer (type)                 Output Shape              Param #   \n",
            "=================================================================\n",
            "input_1 (InputLayer)         [(None, 24, 1)]           0         \n",
            "_________________________________________________________________\n",
            "conv1d (Conv1D)              (None, 22, 10)            40        \n",
            "_________________________________________________________________\n",
            "flatten (Flatten)            (None, 220)               0         \n",
            "_________________________________________________________________\n",
            "dense (Dense)                (None, 200)               44200     \n",
            "_________________________________________________________________\n",
            "dense_1 (Dense)              (None, 24)                4824      \n",
            "=================================================================\n",
            "Total params: 49,064\n",
            "Trainable params: 49,064\n",
            "Non-trainable params: 0\n",
            "_________________________________________________________________\n"
          ],
          "name": "stdout"
        }
      ]
    },
    {
      "cell_type": "code",
      "metadata": {
        "id": "tUBTT7nVvA_n",
        "colab_type": "code",
        "colab": {}
      },
      "source": [
        "last_sunday = pd.to_datetime(\"2020-02-23\")\n",
        "train = data[data['date'] < last_sunday]\n",
        "val = data[data['date'] >= last_sunday]"
      ],
      "execution_count": 10,
      "outputs": []
    },
    {
      "cell_type": "code",
      "metadata": {
        "id": "XKZ5ENW3vA_p",
        "colab_type": "code",
        "colab": {}
      },
      "source": [
        "l = 24\n",
        "h = 24\n",
        "\n",
        "X = []\n",
        "Y = []\n",
        "for i in range(l,train.shape[0]-h):\n",
        "    f = train.iloc[i-l:i]['sales_value'].values #hoje\n",
        "    y = train.iloc[i:i+h]['sales_value'].values # 1 dia depois\n",
        "    \n",
        "    X.append(f)\n",
        "    Y.append(y)\n",
        "\n",
        "X = np.array(X)\n",
        "Y = np.array(Y)\n",
        "\n",
        "X = np.expand_dims(X, -1)"
      ],
      "execution_count": 11,
      "outputs": []
    },
    {
      "cell_type": "code",
      "metadata": {
        "id": "ieuDEGXzvA_y",
        "colab_type": "code",
        "colab": {
          "base_uri": "https://localhost:8080/",
          "height": 204
        },
        "outputId": "a23b0023-09dd-447f-a367-81166560a620"
      },
      "source": [
        "mdl.fit(X, Y, batch_size=1, shuffle=True, epochs=5)"
      ],
      "execution_count": 46,
      "outputs": [
        {
          "output_type": "stream",
          "text": [
            "Epoch 1/5\n",
            "479/479 [==============================] - 0s 1ms/step - loss: 213.5412\n",
            "Epoch 2/5\n",
            "479/479 [==============================] - 0s 991us/step - loss: 215.5959\n",
            "Epoch 3/5\n",
            "479/479 [==============================] - 0s 1ms/step - loss: 216.4483\n",
            "Epoch 4/5\n",
            "479/479 [==============================] - 0s 974us/step - loss: 215.6711\n",
            "Epoch 5/5\n",
            "479/479 [==============================] - 0s 980us/step - loss: 214.4876\n"
          ],
          "name": "stdout"
        },
        {
          "output_type": "execute_result",
          "data": {
            "text/plain": [
              "<tensorflow.python.keras.callbacks.History at 0x7f34487ed6d8>"
            ]
          },
          "metadata": {
            "tags": []
          },
          "execution_count": 46
        }
      ]
    },
    {
      "cell_type": "code",
      "metadata": {
        "id": "gT2wGxqCvA_0",
        "colab_type": "code",
        "colab": {}
      },
      "source": [
        "Xv = []\n",
        "Yv = []\n",
        "for i in range(l,val.shape[0]-h):\n",
        "    f = val.iloc[i-l:i]['sales_value'].values #hoje\n",
        "    y = val.iloc[i:i+h]['sales_value'].values # 1 dia depois\n",
        "    \n",
        "    Xv.append(f)\n",
        "    Yv.append(y)\n",
        "\n",
        "Xv = np.array(Xv)\n",
        "Yv = np.array(Yv)\n",
        "\n",
        "Xv = np.expand_dims(Xv, -1)\n",
        "#Y = np.expand_dims(Y, -1)"
      ],
      "execution_count": 43,
      "outputs": []
    },
    {
      "cell_type": "code",
      "metadata": {
        "id": "p7GwatVTvA_2",
        "colab_type": "code",
        "colab": {}
      },
      "source": [
        "p = mdl.predict(Xv)"
      ],
      "execution_count": 47,
      "outputs": []
    },
    {
      "cell_type": "code",
      "metadata": {
        "id": "ydjcjZ-PvA_5",
        "colab_type": "code",
        "colab": {
          "base_uri": "https://localhost:8080/",
          "height": 34
        },
        "outputId": "51d51ca0-ec85-44aa-d1e5-a5547832f1a0"
      },
      "source": [
        "Yv.shape"
      ],
      "execution_count": 30,
      "outputs": [
        {
          "output_type": "execute_result",
          "data": {
            "text/plain": [
              "(121, 24)"
            ]
          },
          "metadata": {
            "tags": []
          },
          "execution_count": 30
        }
      ]
    },
    {
      "cell_type": "code",
      "metadata": {
        "id": "OxNhklMpvA_8",
        "colab_type": "code",
        "colab": {
          "base_uri": "https://localhost:8080/",
          "height": 34
        },
        "outputId": "4148d48e-2159-445e-a6bb-b4873a77c877"
      },
      "source": [
        "p.shape"
      ],
      "execution_count": 31,
      "outputs": [
        {
          "output_type": "execute_result",
          "data": {
            "text/plain": [
              "(121, 24)"
            ]
          },
          "metadata": {
            "tags": []
          },
          "execution_count": 31
        }
      ]
    },
    {
      "cell_type": "code",
      "metadata": {
        "id": "dMPkwSixvA__",
        "colab_type": "code",
        "colab": {
          "base_uri": "https://localhost:8080/",
          "height": 34
        },
        "outputId": "a8c6f7c2-c048-48ef-a656-4172e3d2dea2"
      },
      "source": [
        "from sklearn.metrics import mean_absolute_error\n",
        "mean_absolute_error(Yv, p)"
      ],
      "execution_count": 48,
      "outputs": [
        {
          "output_type": "execute_result",
          "data": {
            "text/plain": [
              "504.482031728348"
            ]
          },
          "metadata": {
            "tags": []
          },
          "execution_count": 48
        }
      ]
    },
    {
      "cell_type": "code",
      "metadata": {
        "id": "2MAexG_rvBAB",
        "colab_type": "code",
        "colab": {}
      },
      "source": [
        "p_base = np.ones(Yv.shape)*np.median(Y, axis=0)"
      ],
      "execution_count": 49,
      "outputs": []
    },
    {
      "cell_type": "code",
      "metadata": {
        "id": "czP0yT8qvBAF",
        "colab_type": "code",
        "colab": {
          "base_uri": "https://localhost:8080/",
          "height": 34
        },
        "outputId": "7d1efeb3-e9eb-4600-86ca-4eecb37f2f60"
      },
      "source": [
        "mean_absolute_error(Yv, p_base)"
      ],
      "execution_count": 51,
      "outputs": [
        {
          "output_type": "execute_result",
          "data": {
            "text/plain": [
              "829.0155612947652"
            ]
          },
          "metadata": {
            "tags": []
          },
          "execution_count": 51
        }
      ]
    },
    {
      "cell_type": "code",
      "metadata": {
        "id": "xkkmOL7ivBAK",
        "colab_type": "code",
        "colab": {
          "base_uri": "https://localhost:8080/",
          "height": 447
        },
        "outputId": "892b051f-74d6-4863-ec73-6f2bdb46a1b4"
      },
      "source": [
        "pd.DataFrame({'p': p[71,:], 'y': Yv[71,:]}).plot(figsize=(12,7))"
      ],
      "execution_count": 36,
      "outputs": [
        {
          "output_type": "execute_result",
          "data": {
            "text/plain": [
              "<matplotlib.axes._subplots.AxesSubplot at 0x7f3448e14828>"
            ]
          },
          "metadata": {
            "tags": []
          },
          "execution_count": 36
        },
        {
          "output_type": "display_data",
          "data": {
            "image/png": "[encoded data removed]",
            "text/plain": [
              "<Figure size 864x504 with 1 Axes>"
            ]
          },
          "metadata": {
            "tags": [],
            "needs_background": "light"
          }
        }
      ]
    },
    {
      "cell_type": "code",
      "metadata": {
        "id": "Aa35FUjWvBAN",
        "colab_type": "code",
        "colab": {}
      },
      "source": [
        ""
      ],
      "execution_count": null,
      "outputs": []
    }
  ]
}