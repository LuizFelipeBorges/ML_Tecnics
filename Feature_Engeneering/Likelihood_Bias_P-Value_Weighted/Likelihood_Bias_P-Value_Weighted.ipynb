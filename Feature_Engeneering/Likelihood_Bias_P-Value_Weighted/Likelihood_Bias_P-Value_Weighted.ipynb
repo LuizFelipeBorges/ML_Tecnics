{
  "nbformat": 4,
  "nbformat_minor": 0,
  "metadata": {
    "kernelspec": {
      "display_name": "Python 3",
      "language": "python",
      "name": "python3"
    },
    "language_info": {
      "codemirror_mode": {
        "name": "ipython",
        "version": 3
      },
      "file_extension": ".py",
      "mimetype": "text/x-python",
      "name": "python",
      "nbconvert_exporter": "python",
      "pygments_lexer": "ipython3",
      "version": "3.7.6"
    },
    "colab": {
      "name": "Likelihood_Bias.ipynb",
      "provenance": [],
      "collapsed_sections": []
    }
  },
  "cells": [
    {
      "cell_type": "code",
      "metadata": {
        "id": "R2GJbCJBcbyK",
        "colab_type": "code",
        "colab": {}
      },
      "source": [
        "import pandas as pd\n",
        "import numpy as np\n",
        "import re"
      ],
      "execution_count": 1,
      "outputs": []
    },
    {
      "cell_type": "code",
      "metadata": {
        "id": "yvFvcmhCcbyZ",
        "colab_type": "code",
        "colab": {}
      },
      "source": [
        "data = pd.read_csv(\"data.csv\", parse_dates=['CreationDate'])\n",
        "data = data.sort_values(\"CreationDate\")"
      ],
      "execution_count": 2,
      "outputs": []
    },
    {
      "cell_type": "code",
      "metadata": {
        "id": "3_IGrJPdcbyi",
        "colab_type": "code",
        "colab": {
          "base_uri": "https://localhost:8080/",
          "height": 306
        },
        "outputId": "95b16dc8-987f-4ab0-a344-d9fe15e08d81"
      },
      "source": [
        "data.head()"
      ],
      "execution_count": 3,
      "outputs": [
        {
          "output_type": "execute_result",
          "data": {
            "text/html": [
              "<div>\n",
              "<style scoped>\n",
              "    .dataframe tbody tr th:only-of-type {\n",
              "        vertical-align: middle;\n",
              "    }\n",
              "\n",
              "    .dataframe tbody tr th {\n",
              "        vertical-align: top;\n",
              "    }\n",
              "\n",
              "    .dataframe thead th {\n",
              "        text-align: right;\n",
              "    }\n",
              "</style>\n",
              "<table border=\"1\" class=\"dataframe\">\n",
              "  <thead>\n",
              "    <tr style=\"text-align: right;\">\n",
              "      <th></th>\n",
              "      <th>Id</th>\n",
              "      <th>Title</th>\n",
              "      <th>Body</th>\n",
              "      <th>Tags</th>\n",
              "      <th>CreationDate</th>\n",
              "      <th>Y</th>\n",
              "    </tr>\n",
              "  </thead>\n",
              "  <tbody>\n",
              "    <tr>\n",
              "      <th>0</th>\n",
              "      <td>34552656</td>\n",
              "      <td>Java: Repeat Task Every Random Seconds</td>\n",
              "      <td>&lt;p&gt;I'm already familiar with repeating tasks e...</td>\n",
              "      <td>&lt;java&gt;&lt;repeat&gt;</td>\n",
              "      <td>2016-01-01 00:21:59</td>\n",
              "      <td>LQ_CLOSE</td>\n",
              "    </tr>\n",
              "    <tr>\n",
              "      <th>1</th>\n",
              "      <td>34552974</td>\n",
              "      <td>How to get all the child records from differen...</td>\n",
              "      <td>I am having 4 different tables like \\r\\nselect...</td>\n",
              "      <td>&lt;sql&gt;&lt;sql-server&gt;</td>\n",
              "      <td>2016-01-01 01:44:52</td>\n",
              "      <td>LQ_EDIT</td>\n",
              "    </tr>\n",
              "    <tr>\n",
              "      <th>2</th>\n",
              "      <td>34553034</td>\n",
              "      <td>Why are Java Optionals immutable?</td>\n",
              "      <td>&lt;p&gt;I'd like to understand why Java 8 Optionals...</td>\n",
              "      <td>&lt;java&gt;&lt;optional&gt;</td>\n",
              "      <td>2016-01-01 02:03:20</td>\n",
              "      <td>HQ</td>\n",
              "    </tr>\n",
              "    <tr>\n",
              "      <th>3</th>\n",
              "      <td>34553174</td>\n",
              "      <td>Text Overlay Image with Darkened Opacity React...</td>\n",
              "      <td>&lt;p&gt;I am attempting to overlay a title over an ...</td>\n",
              "      <td>&lt;javascript&gt;&lt;image&gt;&lt;overlay&gt;&lt;react-native&gt;&lt;opa...</td>\n",
              "      <td>2016-01-01 02:48:24</td>\n",
              "      <td>HQ</td>\n",
              "    </tr>\n",
              "    <tr>\n",
              "      <th>4</th>\n",
              "      <td>34553318</td>\n",
              "      <td>Why ternary operator in swift is so picky?</td>\n",
              "      <td>&lt;p&gt;The question is very simple, but I just cou...</td>\n",
              "      <td>&lt;swift&gt;&lt;operators&gt;&lt;whitespace&gt;&lt;ternary-operato...</td>\n",
              "      <td>2016-01-01 03:30:17</td>\n",
              "      <td>HQ</td>\n",
              "    </tr>\n",
              "  </tbody>\n",
              "</table>\n",
              "</div>"
            ],
            "text/plain": [
              "         Id  ...         Y\n",
              "0  34552656  ...  LQ_CLOSE\n",
              "1  34552974  ...   LQ_EDIT\n",
              "2  34553034  ...        HQ\n",
              "3  34553174  ...        HQ\n",
              "4  34553318  ...        HQ\n",
              "\n",
              "[5 rows x 6 columns]"
            ]
          },
          "metadata": {
            "tags": []
          },
          "execution_count": 3
        }
      ]
    },
    {
      "cell_type": "code",
      "metadata": {
        "id": "XLJEPDNAcbys",
        "colab_type": "code",
        "colab": {}
      },
      "source": [
        "new_data = []\n",
        "for ts, tags, y in data[['CreationDate','Tags', 'Y']].values:\n",
        "    tags_ = re.findall(\"<([\\w\\d\\-]+)\", tags)\n",
        "    y_ = 1 if 'HQ' in y else 0 \n",
        "    \n",
        "    data_pt = [ts, tags_, y_]\n",
        "    new_data.append(data_pt)"
      ],
      "execution_count": 4,
      "outputs": []
    },
    {
      "cell_type": "code",
      "metadata": {
        "id": "g0p_70srcby1",
        "colab_type": "code",
        "colab": {}
      },
      "source": [
        "like = new_data[:20000]\n",
        "train = new_data[20000:40000]\n",
        "test = new_data[40000:]"
      ],
      "execution_count": 5,
      "outputs": []
    },
    {
      "cell_type": "code",
      "metadata": {
        "id": "619g81_YkXOW",
        "colab_type": "code",
        "colab": {
          "base_uri": "https://localhost:8080/",
          "height": 34
        },
        "outputId": "c5f3608c-4e50-4cda-985e-6925644e678e"
      },
      "source": [
        "train[1]"
      ],
      "execution_count": 20,
      "outputs": [
        {
          "output_type": "execute_result",
          "data": {
            "text/plain": [
              "[Timestamp('2016-12-25 10:55:47'), ['javascript', 'html'], 0]"
            ]
          },
          "metadata": {
            "tags": []
          },
          "execution_count": 20
        }
      ]
    },
    {
      "cell_type": "markdown",
      "metadata": {
        "id": "RKAqxchhdRJ-",
        "colab_type": "text"
      },
      "source": [
        "# Likelihood\n"
      ]
    },
    {
      "cell_type": "code",
      "metadata": {
        "id": "jwwmyzRldRKG",
        "colab_type": "code",
        "colab": {}
      },
      "source": [
        "global_like = 0\n",
        "\n",
        "tag_like_y = dict()\n",
        "tag_like_num = dict()\n",
        "\n",
        "for ts, tags, y  in like:\n",
        "    global_like += y\n",
        "    \n",
        "    for t in tags:\n",
        "        tag_like_y[t] = tag_like_y.get(t, 0) + y\n",
        "        tag_like_num[t] = tag_like_num.get(t, 0) + 1"
      ],
      "execution_count": 6,
      "outputs": []
    },
    {
      "cell_type": "code",
      "metadata": {
        "id": "KNs_H8midRKL",
        "colab_type": "code",
        "colab": {}
      },
      "source": [
        "tag_like = dict()\n",
        "\n",
        "for tag in tag_like_num.keys():\n",
        "    tag_like[tag] = tag_like_y[tag] / tag_like_num[tag]"
      ],
      "execution_count": 7,
      "outputs": []
    },
    {
      "cell_type": "markdown",
      "metadata": {
        "id": "xx180CtadRKP",
        "colab_type": "text"
      },
      "source": [
        "# Bias factor"
      ]
    },
    {
      "cell_type": "code",
      "metadata": {
        "id": "v7earp1_dRKP",
        "colab_type": "code",
        "colab": {}
      },
      "source": [
        "global_bias = global_like / 20000\n",
        "    \n",
        "tag_bias_factor = dict()\n",
        "for tag, bias in tag_like.items():\n",
        "    tag_bias_factor[tag] = bias / global_bias"
      ],
      "execution_count": 8,
      "outputs": []
    },
    {
      "cell_type": "markdown",
      "metadata": {
        "id": "syHMO_7jdwUj",
        "colab_type": "text"
      },
      "source": [
        "# Bias factor weighted"
      ]
    },
    {
      "cell_type": "markdown",
      "metadata": {
        "id": "SVxEkxphdwUc",
        "colab_type": "text"
      },
      "source": [
        "## P-valor"
      ]
    },
    {
      "cell_type": "code",
      "metadata": {
        "id": "0GkP_JOfdwUc",
        "colab_type": "code",
        "colab": {}
      },
      "source": [
        "from scipy.stats import binom"
      ],
      "execution_count": 9,
      "outputs": []
    },
    {
      "cell_type": "code",
      "metadata": {
        "id": "AckMcE0GdwUg",
        "colab_type": "code",
        "colab": {}
      },
      "source": [
        "tag_pvals = dict()\n",
        "global_bias = 0.4093\n",
        "\n",
        "for tag in tag_like_num.keys():\n",
        "    k = tag_like_y[tag]\n",
        "    n = tag_like_num[tag]\n",
        "    tag_pvals[tag] = np.min([binom.cdf(k=k, n=n, p=global_bias), binom.sf(k=k-1, n=n, p=global_bias)])"
      ],
      "execution_count": 10,
      "outputs": []
    },
    {
      "cell_type": "code",
      "metadata": {
        "id": "SDBUSdeTdwUk",
        "colab_type": "code",
        "colab": {}
      },
      "source": [
        "def logit(pval, bias_denominator=12): \n",
        "    pval = np.max([pval, 1e-5])\n",
        "    inverse_pval = 1 - pval\n",
        "    logit_ = np.log(inverse_pval) - np.log(1 - inverse_pval)\n",
        "    \n",
        "    return np.max([0, logit_]) / bias_denominator #logit of 1-pval, menor pval = mais peso\n",
        "\n",
        "tag_pvals_logit = dict()\n",
        "for tag, pval in tag_pvals.items():\n",
        "    tag_pvals_logit[tag] = logit(pval)"
      ],
      "execution_count": 11,
      "outputs": []
    },
    {
      "cell_type": "code",
      "metadata": {
        "id": "6CuJ0CmXdwUp",
        "colab_type": "code",
        "colab": {}
      },
      "source": [
        "tag_bias_factor_weighted = dict()\n",
        "\n",
        "for tag, bias in tag_bias_factor.items():\n",
        "    tag_bias_factor_weighted[tag] = tag_bias_factor[tag] ** tag_pvals_logit[tag]"
      ],
      "execution_count": 12,
      "outputs": []
    },
    {
      "cell_type": "markdown",
      "metadata": {
        "id": "MX_VudjbeiD3",
        "colab_type": "text"
      },
      "source": [
        "# Models"
      ]
    },
    {
      "cell_type": "code",
      "metadata": {
        "id": "xvEF1KFmeiDo",
        "colab_type": "code",
        "colab": {}
      },
      "source": [
        "def gen_features(data, tag_dict, return_y=True):\n",
        "    feature_col = []\n",
        "    Y = []\n",
        "\n",
        "    for ts, tags, y in data:\n",
        "\n",
        "        feature_row = []\n",
        "\n",
        "        for tag in tags:\n",
        "            if tag not in tag_dict:\n",
        "                feature_row.append(1)\n",
        "                continue\n",
        "            feature_row.append(tag_dict[tag])\n",
        "            \n",
        "        feature_col.append(np.mean(feature_row))\n",
        "        Y.append(y)\n",
        "        \n",
        "    feature_col = np.array(feature_col)\n",
        "    feature_col[np.isnan(feature_col)] = 1. # nan = 1.\n",
        "    feature_col = feature_col.reshape(-1,1) #sklearn\n",
        "    \n",
        "    Y = np.array(Y)\n",
        "        \n",
        "    if return_y:\n",
        "        return feature_col, Y\n",
        "    return feature_col"
      ],
      "execution_count": 13,
      "outputs": []
    },
    {
      "cell_type": "code",
      "metadata": {
        "id": "0fvkevqLeiD6",
        "colab_type": "code",
        "colab": {}
      },
      "source": [
        "from lightgbm import LGBMClassifier\n",
        "from sklearn.metrics import roc_auc_score"
      ],
      "execution_count": 14,
      "outputs": []
    },
    {
      "cell_type": "markdown",
      "metadata": {
        "id": "Lx9ZG_S-eiEJ",
        "colab_type": "text"
      },
      "source": [
        "## Tag Like"
      ]
    },
    {
      "cell_type": "code",
      "metadata": {
        "id": "tPSYFVnleiEM",
        "colab_type": "code",
        "colab": {
          "base_uri": "https://localhost:8080/",
          "height": 122
        },
        "outputId": "e1e1e40f-7c23-4566-9106-bf3f8aadbd63"
      },
      "source": [
        "feature_col_tag_like_tr, Y_tr = gen_features(train, tag_like)\n",
        "feature_col_tag_like_ts, Y_ts = gen_features(test, tag_like)\n",
        "\n",
        "mdl = LGBMClassifier(random_state=0)\n",
        "mdl.fit(feature_col_tag_like_tr, Y_tr)\n",
        "\n",
        "raw_roc = roc_auc_score(Y_ts, feature_col_tag_like_ts)\n",
        "model_roc = roc_auc_score(Y_ts, mdl.predict_proba(feature_col_tag_like_ts)[:,1])\n",
        "print(\"ROC AUC - Feature = {} - Model = {}\".format(raw_roc, model_roc))"
      ],
      "execution_count": 15,
      "outputs": [
        {
          "output_type": "stream",
          "text": [
            "/usr/local/lib/python3.6/dist-packages/numpy/core/fromnumeric.py:3335: RuntimeWarning: Mean of empty slice.\n",
            "  out=out, **kwargs)\n",
            "/usr/local/lib/python3.6/dist-packages/numpy/core/_methods.py:161: RuntimeWarning: invalid value encountered in double_scalars\n",
            "  ret = ret.dtype.type(ret / rcount)\n"
          ],
          "name": "stderr"
        },
        {
          "output_type": "stream",
          "text": [
            "ROC AUC - Feature = 0.8828576104225871 - Model = 0.8856311290653981\n"
          ],
          "name": "stdout"
        }
      ]
    },
    {
      "cell_type": "markdown",
      "metadata": {
        "id": "6Lc9scPAeiEZ",
        "colab_type": "text"
      },
      "source": [
        "## Tag Bias Factor"
      ]
    },
    {
      "cell_type": "code",
      "metadata": {
        "id": "nEFxK2-SeiEb",
        "colab_type": "code",
        "colab": {
          "base_uri": "https://localhost:8080/",
          "height": 122
        },
        "outputId": "23e4986a-b111-439f-c138-b418fb53eaa6"
      },
      "source": [
        "feature_col_tag_bias_factor_tr, Y_tr = gen_features(train, tag_bias_factor)\n",
        "feature_col_tag_bias_factor_ts, Y_ts = gen_features(test, tag_bias_factor)\n",
        "\n",
        "mdl = LGBMClassifier(random_state=0)\n",
        "mdl.fit(feature_col_tag_bias_factor_tr, Y_tr)\n",
        "\n",
        "raw_roc = roc_auc_score(Y_ts, feature_col_tag_bias_factor_ts)\n",
        "model_roc = roc_auc_score(Y_ts, mdl.predict_proba(feature_col_tag_bias_factor_ts)[:,1])\n",
        "print(\"ROC AUC - Feature = {} - Model = {}\".format(raw_roc, model_roc))"
      ],
      "execution_count": 16,
      "outputs": [
        {
          "output_type": "stream",
          "text": [
            "/usr/local/lib/python3.6/dist-packages/numpy/core/fromnumeric.py:3335: RuntimeWarning: Mean of empty slice.\n",
            "  out=out, **kwargs)\n",
            "/usr/local/lib/python3.6/dist-packages/numpy/core/_methods.py:161: RuntimeWarning: invalid value encountered in double_scalars\n",
            "  ret = ret.dtype.type(ret / rcount)\n"
          ],
          "name": "stderr"
        },
        {
          "output_type": "stream",
          "text": [
            "ROC AUC - Feature = 0.8605241884273186 - Model = 0.8725653372975385\n"
          ],
          "name": "stdout"
        }
      ]
    },
    {
      "cell_type": "markdown",
      "metadata": {
        "id": "qrOIKVC6lrdw",
        "colab_type": "text"
      },
      "source": [
        "## Tag P-Vals"
      ]
    },
    {
      "cell_type": "code",
      "metadata": {
        "id": "WG9qZGAXeiEg",
        "colab_type": "code",
        "colab": {
          "base_uri": "https://localhost:8080/",
          "height": 122
        },
        "outputId": "686574b4-19bd-4002-d63e-70bb27e6d37c"
      },
      "source": [
        "feature_col_tag_pvals_tr, Y_tr = gen_features(train, tag_pvals)\n",
        "feature_col_tag_pvals_ts, Y_ts = gen_features(test, tag_pvals)\n",
        "\n",
        "mdl = LGBMClassifier(random_state=0)\n",
        "mdl.fit(feature_col_tag_pvals_tr, Y_tr)\n",
        "\n",
        "raw_roc = roc_auc_score(Y_ts, feature_col_tag_pvals_ts)\n",
        "model_roc = roc_auc_score(Y_ts, mdl.predict_proba(feature_col_tag_pvals_ts)[:,1])\n",
        "print(\"ROC AUC - Feature = {} - Model = {}\".format(raw_roc, model_roc)) ## maior p-val, mais chance de ser de qualidade .... sample size? popularidade da tag?"
      ],
      "execution_count": 17,
      "outputs": [
        {
          "output_type": "stream",
          "text": [
            "/usr/local/lib/python3.6/dist-packages/numpy/core/fromnumeric.py:3335: RuntimeWarning: Mean of empty slice.\n",
            "  out=out, **kwargs)\n",
            "/usr/local/lib/python3.6/dist-packages/numpy/core/_methods.py:161: RuntimeWarning: invalid value encountered in double_scalars\n",
            "  ret = ret.dtype.type(ret / rcount)\n"
          ],
          "name": "stderr"
        },
        {
          "output_type": "stream",
          "text": [
            "ROC AUC - Feature = 0.6775924316381104 - Model = 0.7288903811961154\n"
          ],
          "name": "stdout"
        }
      ]
    },
    {
      "cell_type": "markdown",
      "metadata": {
        "id": "dNNVJLDgl5b-",
        "colab_type": "text"
      },
      "source": [
        "## Tag Weighted Bias "
      ]
    },
    {
      "cell_type": "code",
      "metadata": {
        "id": "RhlyV0I6eiEk",
        "colab_type": "code",
        "colab": {
          "base_uri": "https://localhost:8080/",
          "height": 122
        },
        "outputId": "3e3056a1-1d51-4249-ded2-8f3f02e4fd10"
      },
      "source": [
        "feature_col_tag_bias_factor_weighted_tr, Y_tr = gen_features(train, tag_bias_factor_weighted)\n",
        "feature_col_tag_bias_factor_weighted_ts, Y_ts = gen_features(test, tag_bias_factor_weighted)\n",
        "\n",
        "mdl = LGBMClassifier(random_state=0)\n",
        "mdl.fit(feature_col_tag_bias_factor_weighted_tr, Y_tr)\n",
        "\n",
        "raw_roc = roc_auc_score(Y_ts, feature_col_tag_bias_factor_weighted_ts)\n",
        "model_roc = roc_auc_score(Y_ts, mdl.predict_proba(feature_col_tag_bias_factor_weighted_ts)[:,1])\n",
        "print(\"ROC AUC - Feature = {} - Model = {}\".format(raw_roc, model_roc))"
      ],
      "execution_count": 18,
      "outputs": [
        {
          "output_type": "stream",
          "text": [
            "/usr/local/lib/python3.6/dist-packages/numpy/core/fromnumeric.py:3335: RuntimeWarning: Mean of empty slice.\n",
            "  out=out, **kwargs)\n",
            "/usr/local/lib/python3.6/dist-packages/numpy/core/_methods.py:161: RuntimeWarning: invalid value encountered in double_scalars\n",
            "  ret = ret.dtype.type(ret / rcount)\n"
          ],
          "name": "stderr"
        },
        {
          "output_type": "stream",
          "text": [
            "ROC AUC - Feature = 0.8441389961082729 - Model = 0.8625036086374923\n"
          ],
          "name": "stdout"
        }
      ]
    },
    {
      "cell_type": "markdown",
      "metadata": {
        "id": "PNeCKlv6mLZI",
        "colab_type": "text"
      },
      "source": [
        "## Tags Like and P-Vals"
      ]
    },
    {
      "cell_type": "code",
      "metadata": {
        "id": "mzyZi0GkeiEn",
        "colab_type": "code",
        "colab": {
          "base_uri": "https://localhost:8080/",
          "height": 34
        },
        "outputId": "678d7b82-ce5e-4de6-f72b-2845ee177b43"
      },
      "source": [
        "mx_tr = np.hstack([feature_col_tag_like_tr, feature_col_tag_pvals_tr])\n",
        "mx_ts = np.hstack([feature_col_tag_like_ts, feature_col_tag_pvals_ts])\n",
        "\n",
        "mdl = LGBMClassifier(random_state=0)\n",
        "mdl.fit(mx_tr, Y_tr)\n",
        "\n",
        "raw_roc = roc_auc_score(Y_ts, mx_ts.mean(axis=1))\n",
        "model_roc = roc_auc_score(Y_ts, mdl.predict_proba(mx_ts)[:,1])\n",
        "print(\"ROC AUC - Feature = {} - Model = {}\".format(raw_roc, model_roc))"
      ],
      "execution_count": 19,
      "outputs": [
        {
          "output_type": "stream",
          "text": [
            "ROC AUC - Feature = 0.8639511544581207 - Model = 0.8895922280392354\n"
          ],
          "name": "stdout"
        }
      ]
    }
  ]
}