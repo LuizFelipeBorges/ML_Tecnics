{
  "nbformat": 4,
  "nbformat_minor": 0,
  "metadata": {
    "kernelspec": {
      "display_name": "Python 3",
      "language": "python",
      "name": "python3"
    },
    "language_info": {
      "codemirror_mode": {
        "name": "ipython",
        "version": 3
      },
      "file_extension": ".py",
      "mimetype": "text/x-python",
      "name": "python",
      "nbconvert_exporter": "python",
      "pygments_lexer": "ipython3",
      "version": "3.7.6"
    },
    "colab": {
      "name": "Date_Encoding.ipynb",
      "provenance": []
    }
  },
  "cells": [
    {
      "cell_type": "code",
      "metadata": {
        "id": "VbhQLd3iqh8R"
      },
      "source": [
        "import pandas as pd\n",
        "import numpy as np\n",
        "pd.set_option('display.max_colwidth', None)"
      ],
      "execution_count": 10,
      "outputs": []
    },
    {
      "cell_type": "code",
      "metadata": {
        "id": "ysmOm1dvqh8W"
      },
      "source": [
        "data = pd.read_csv('/content/ts_hr_feb_2020.csv', parse_dates=['date'])\n",
        "\n",
        "data['hour'] = data['date'].dt.hour"
      ],
      "execution_count": 2,
      "outputs": []
    },
    {
      "cell_type": "code",
      "metadata": {
        "id": "tXi6JFTHqh8a",
        "outputId": "668719c6-3762-460e-8fc3-3eda975febc9",
        "colab": {
          "base_uri": "https://localhost:8080/",
          "height": 204
        }
      },
      "source": [
        "data.head()"
      ],
      "execution_count": 3,
      "outputs": [
        {
          "output_type": "execute_result",
          "data": {
            "text/html": [
              "<div>\n",
              "<style scoped>\n",
              "    .dataframe tbody tr th:only-of-type {\n",
              "        vertical-align: middle;\n",
              "    }\n",
              "\n",
              "    .dataframe tbody tr th {\n",
              "        vertical-align: top;\n",
              "    }\n",
              "\n",
              "    .dataframe thead th {\n",
              "        text-align: right;\n",
              "    }\n",
              "</style>\n",
              "<table border=\"1\" class=\"dataframe\">\n",
              "  <thead>\n",
              "    <tr style=\"text-align: right;\">\n",
              "      <th></th>\n",
              "      <th>date</th>\n",
              "      <th>sales_value</th>\n",
              "      <th>hour</th>\n",
              "    </tr>\n",
              "  </thead>\n",
              "  <tbody>\n",
              "    <tr>\n",
              "      <th>0</th>\n",
              "      <td>2020-02-01 00:00:00</td>\n",
              "      <td>28.60</td>\n",
              "      <td>0</td>\n",
              "    </tr>\n",
              "    <tr>\n",
              "      <th>1</th>\n",
              "      <td>2020-02-01 01:00:00</td>\n",
              "      <td>122.84</td>\n",
              "      <td>1</td>\n",
              "    </tr>\n",
              "    <tr>\n",
              "      <th>2</th>\n",
              "      <td>2020-02-01 02:00:00</td>\n",
              "      <td>112.87</td>\n",
              "      <td>2</td>\n",
              "    </tr>\n",
              "    <tr>\n",
              "      <th>3</th>\n",
              "      <td>2020-02-01 03:00:00</td>\n",
              "      <td>357.20</td>\n",
              "      <td>3</td>\n",
              "    </tr>\n",
              "    <tr>\n",
              "      <th>4</th>\n",
              "      <td>2020-02-01 04:00:00</td>\n",
              "      <td>642.56</td>\n",
              "      <td>4</td>\n",
              "    </tr>\n",
              "  </tbody>\n",
              "</table>\n",
              "</div>"
            ],
            "text/plain": [
              "                 date  sales_value  hour\n",
              "0 2020-02-01 00:00:00        28.60     0\n",
              "1 2020-02-01 01:00:00       122.84     1\n",
              "2 2020-02-01 02:00:00       112.87     2\n",
              "3 2020-02-01 03:00:00       357.20     3\n",
              "4 2020-02-01 04:00:00       642.56     4"
            ]
          },
          "metadata": {
            "tags": []
          },
          "execution_count": 3
        }
      ]
    },
    {
      "cell_type": "markdown",
      "metadata": {
        "id": "WXFvmMxBDwpu"
      },
      "source": [
        "#1º"
      ]
    },
    {
      "cell_type": "code",
      "metadata": {
        "id": "xUzL3yAs8JPj"
      },
      "source": [
        "T = []\n",
        "for i in range(data.shape[0]):\n",
        "  f = data.iloc[i][['date', 'hour']]\n",
        "\n",
        "  f['sin_hour'] = np.sin(2*np.pi*f['hour']/24)\n",
        "  f['cos_hour'] = np.cos(2*np.pi*f['hour']/24)\n",
        "\n",
        "  T.append(f)\n",
        "T = pd.DataFrame(T)"
      ],
      "execution_count": 4,
      "outputs": []
    },
    {
      "cell_type": "code",
      "metadata": {
        "id": "qoid3w3O8TXk",
        "outputId": "cfbd1f84-fabf-4c1e-a439-0f5aefcfd136",
        "colab": {
          "base_uri": "https://localhost:8080/",
          "height": 419
        }
      },
      "source": [
        "T"
      ],
      "execution_count": 9,
      "outputs": [
        {
          "output_type": "execute_result",
          "data": {
            "text/html": [
              "<div>\n",
              "<style scoped>\n",
              "    .dataframe tbody tr th:only-of-type {\n",
              "        vertical-align: middle;\n",
              "    }\n",
              "\n",
              "    .dataframe tbody tr th {\n",
              "        vertical-align: top;\n",
              "    }\n",
              "\n",
              "    .dataframe thead th {\n",
              "        text-align: right;\n",
              "    }\n",
              "</style>\n",
              "<table border=\"1\" class=\"dataframe\">\n",
              "  <thead>\n",
              "    <tr style=\"text-align: right;\">\n",
              "      <th></th>\n",
              "      <th>date</th>\n",
              "      <th>hour</th>\n",
              "      <th>sin_hour</th>\n",
              "      <th>cos_hour</th>\n",
              "    </tr>\n",
              "  </thead>\n",
              "  <tbody>\n",
              "    <tr>\n",
              "      <th>0</th>\n",
              "      <td>2020-02-01 00:00:00</td>\n",
              "      <td>0</td>\n",
              "      <td>0.000000</td>\n",
              "      <td>1.000000</td>\n",
              "    </tr>\n",
              "    <tr>\n",
              "      <th>1</th>\n",
              "      <td>2020-02-01 01:00:00</td>\n",
              "      <td>1</td>\n",
              "      <td>0.258819</td>\n",
              "      <td>0.965926</td>\n",
              "    </tr>\n",
              "    <tr>\n",
              "      <th>2</th>\n",
              "      <td>2020-02-01 02:00:00</td>\n",
              "      <td>2</td>\n",
              "      <td>0.500000</td>\n",
              "      <td>0.866025</td>\n",
              "    </tr>\n",
              "    <tr>\n",
              "      <th>3</th>\n",
              "      <td>2020-02-01 03:00:00</td>\n",
              "      <td>3</td>\n",
              "      <td>0.707107</td>\n",
              "      <td>0.707107</td>\n",
              "    </tr>\n",
              "    <tr>\n",
              "      <th>4</th>\n",
              "      <td>2020-02-01 04:00:00</td>\n",
              "      <td>4</td>\n",
              "      <td>0.866025</td>\n",
              "      <td>0.500000</td>\n",
              "    </tr>\n",
              "    <tr>\n",
              "      <th>...</th>\n",
              "      <td>...</td>\n",
              "      <td>...</td>\n",
              "      <td>...</td>\n",
              "      <td>...</td>\n",
              "    </tr>\n",
              "    <tr>\n",
              "      <th>691</th>\n",
              "      <td>2020-02-29 20:00:00</td>\n",
              "      <td>20</td>\n",
              "      <td>-0.866025</td>\n",
              "      <td>0.500000</td>\n",
              "    </tr>\n",
              "    <tr>\n",
              "      <th>692</th>\n",
              "      <td>2020-02-29 21:00:00</td>\n",
              "      <td>21</td>\n",
              "      <td>-0.707107</td>\n",
              "      <td>0.707107</td>\n",
              "    </tr>\n",
              "    <tr>\n",
              "      <th>693</th>\n",
              "      <td>2020-02-29 22:00:00</td>\n",
              "      <td>22</td>\n",
              "      <td>-0.500000</td>\n",
              "      <td>0.866025</td>\n",
              "    </tr>\n",
              "    <tr>\n",
              "      <th>694</th>\n",
              "      <td>2020-02-29 23:00:00</td>\n",
              "      <td>23</td>\n",
              "      <td>-0.258819</td>\n",
              "      <td>0.965926</td>\n",
              "    </tr>\n",
              "    <tr>\n",
              "      <th>695</th>\n",
              "      <td>2020-03-01 00:00:00</td>\n",
              "      <td>0</td>\n",
              "      <td>0.000000</td>\n",
              "      <td>1.000000</td>\n",
              "    </tr>\n",
              "  </tbody>\n",
              "</table>\n",
              "<p>696 rows × 4 columns</p>\n",
              "</div>"
            ],
            "text/plain": [
              "                   date  hour  sin_hour  cos_hour\n",
              "0   2020-02-01 00:00:00     0  0.000000  1.000000\n",
              "1   2020-02-01 01:00:00     1  0.258819  0.965926\n",
              "2   2020-02-01 02:00:00     2  0.500000  0.866025\n",
              "3   2020-02-01 03:00:00     3  0.707107  0.707107\n",
              "4   2020-02-01 04:00:00     4  0.866025  0.500000\n",
              "..                  ...   ...       ...       ...\n",
              "691 2020-02-29 20:00:00    20 -0.866025  0.500000\n",
              "692 2020-02-29 21:00:00    21 -0.707107  0.707107\n",
              "693 2020-02-29 22:00:00    22 -0.500000  0.866025\n",
              "694 2020-02-29 23:00:00    23 -0.258819  0.965926\n",
              "695 2020-03-01 00:00:00     0  0.000000  1.000000\n",
              "\n",
              "[696 rows x 4 columns]"
            ]
          },
          "metadata": {
            "tags": []
          },
          "execution_count": 9
        }
      ]
    },
    {
      "cell_type": "markdown",
      "metadata": {
        "id": "yfAo4_oFD3_s"
      },
      "source": [
        "#2º"
      ]
    },
    {
      "cell_type": "code",
      "metadata": {
        "id": "2yvEMWdOqh8h"
      },
      "source": [
        "def sin_hour_encoding(value):\n",
        "\n",
        "    enc_sin_hour = np.sin(2*np.pi*value/24)\n",
        "\n",
        "    return enc_sin_hour\n",
        "\n",
        "def cos_hour_encoding(value):\n",
        "\n",
        "    enc_cos_hour = np.cos(2*np.pi*value/24)\n",
        "\n",
        "    return enc_cos_hour"
      ],
      "execution_count": 6,
      "outputs": []
    },
    {
      "cell_type": "code",
      "metadata": {
        "id": "KSJp5pe-zfrp"
      },
      "source": [
        "data['sin_hour'] = data['hour'].map(sin_hour_encoding)\n",
        "data['cos_hour'] = data['hour'].map(cos_hour_encoding)"
      ],
      "execution_count": 7,
      "outputs": []
    },
    {
      "cell_type": "code",
      "metadata": {
        "id": "PpEzYc5mqh8l",
        "outputId": "84bff71f-33b1-4163-c706-56aaff79d3d3",
        "colab": {
          "base_uri": "https://localhost:8080/",
          "height": 419
        }
      },
      "source": [
        "data"
      ],
      "execution_count": 8,
      "outputs": [
        {
          "output_type": "execute_result",
          "data": {
            "text/html": [
              "<div>\n",
              "<style scoped>\n",
              "    .dataframe tbody tr th:only-of-type {\n",
              "        vertical-align: middle;\n",
              "    }\n",
              "\n",
              "    .dataframe tbody tr th {\n",
              "        vertical-align: top;\n",
              "    }\n",
              "\n",
              "    .dataframe thead th {\n",
              "        text-align: right;\n",
              "    }\n",
              "</style>\n",
              "<table border=\"1\" class=\"dataframe\">\n",
              "  <thead>\n",
              "    <tr style=\"text-align: right;\">\n",
              "      <th></th>\n",
              "      <th>date</th>\n",
              "      <th>sales_value</th>\n",
              "      <th>hour</th>\n",
              "      <th>sin_hour</th>\n",
              "      <th>cos_hour</th>\n",
              "    </tr>\n",
              "  </thead>\n",
              "  <tbody>\n",
              "    <tr>\n",
              "      <th>0</th>\n",
              "      <td>2020-02-01 00:00:00</td>\n",
              "      <td>28.60</td>\n",
              "      <td>0</td>\n",
              "      <td>0.000000</td>\n",
              "      <td>1.000000</td>\n",
              "    </tr>\n",
              "    <tr>\n",
              "      <th>1</th>\n",
              "      <td>2020-02-01 01:00:00</td>\n",
              "      <td>122.84</td>\n",
              "      <td>1</td>\n",
              "      <td>0.258819</td>\n",
              "      <td>0.965926</td>\n",
              "    </tr>\n",
              "    <tr>\n",
              "      <th>2</th>\n",
              "      <td>2020-02-01 02:00:00</td>\n",
              "      <td>112.87</td>\n",
              "      <td>2</td>\n",
              "      <td>0.500000</td>\n",
              "      <td>0.866025</td>\n",
              "    </tr>\n",
              "    <tr>\n",
              "      <th>3</th>\n",
              "      <td>2020-02-01 03:00:00</td>\n",
              "      <td>357.20</td>\n",
              "      <td>3</td>\n",
              "      <td>0.707107</td>\n",
              "      <td>0.707107</td>\n",
              "    </tr>\n",
              "    <tr>\n",
              "      <th>4</th>\n",
              "      <td>2020-02-01 04:00:00</td>\n",
              "      <td>642.56</td>\n",
              "      <td>4</td>\n",
              "      <td>0.866025</td>\n",
              "      <td>0.500000</td>\n",
              "    </tr>\n",
              "    <tr>\n",
              "      <th>...</th>\n",
              "      <td>...</td>\n",
              "      <td>...</td>\n",
              "      <td>...</td>\n",
              "      <td>...</td>\n",
              "      <td>...</td>\n",
              "    </tr>\n",
              "    <tr>\n",
              "      <th>691</th>\n",
              "      <td>2020-02-29 20:00:00</td>\n",
              "      <td>1171.21</td>\n",
              "      <td>20</td>\n",
              "      <td>-0.866025</td>\n",
              "      <td>0.500000</td>\n",
              "    </tr>\n",
              "    <tr>\n",
              "      <th>692</th>\n",
              "      <td>2020-02-29 21:00:00</td>\n",
              "      <td>1929.69</td>\n",
              "      <td>21</td>\n",
              "      <td>-0.707107</td>\n",
              "      <td>0.707107</td>\n",
              "    </tr>\n",
              "    <tr>\n",
              "      <th>693</th>\n",
              "      <td>2020-02-29 22:00:00</td>\n",
              "      <td>944.05</td>\n",
              "      <td>22</td>\n",
              "      <td>-0.500000</td>\n",
              "      <td>0.866025</td>\n",
              "    </tr>\n",
              "    <tr>\n",
              "      <th>694</th>\n",
              "      <td>2020-02-29 23:00:00</td>\n",
              "      <td>586.00</td>\n",
              "      <td>23</td>\n",
              "      <td>-0.258819</td>\n",
              "      <td>0.965926</td>\n",
              "    </tr>\n",
              "    <tr>\n",
              "      <th>695</th>\n",
              "      <td>2020-03-01 00:00:00</td>\n",
              "      <td>270.72</td>\n",
              "      <td>0</td>\n",
              "      <td>0.000000</td>\n",
              "      <td>1.000000</td>\n",
              "    </tr>\n",
              "  </tbody>\n",
              "</table>\n",
              "<p>696 rows × 5 columns</p>\n",
              "</div>"
            ],
            "text/plain": [
              "                   date  sales_value  hour  sin_hour  cos_hour\n",
              "0   2020-02-01 00:00:00        28.60     0  0.000000  1.000000\n",
              "1   2020-02-01 01:00:00       122.84     1  0.258819  0.965926\n",
              "2   2020-02-01 02:00:00       112.87     2  0.500000  0.866025\n",
              "3   2020-02-01 03:00:00       357.20     3  0.707107  0.707107\n",
              "4   2020-02-01 04:00:00       642.56     4  0.866025  0.500000\n",
              "..                  ...          ...   ...       ...       ...\n",
              "691 2020-02-29 20:00:00      1171.21    20 -0.866025  0.500000\n",
              "692 2020-02-29 21:00:00      1929.69    21 -0.707107  0.707107\n",
              "693 2020-02-29 22:00:00       944.05    22 -0.500000  0.866025\n",
              "694 2020-02-29 23:00:00       586.00    23 -0.258819  0.965926\n",
              "695 2020-03-01 00:00:00       270.72     0  0.000000  1.000000\n",
              "\n",
              "[696 rows x 5 columns]"
            ]
          },
          "metadata": {
            "tags": []
          },
          "execution_count": 8
        }
      ]
    },
    {
      "cell_type": "code",
      "metadata": {
        "id": "3EZqFsoiw-Tx"
      },
      "source": [
        ""
      ],
      "execution_count": 8,
      "outputs": []
    }
  ]
}